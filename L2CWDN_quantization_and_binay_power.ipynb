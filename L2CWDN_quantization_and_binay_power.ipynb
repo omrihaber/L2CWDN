{
  "nbformat": 4,
  "nbformat_minor": 0,
  "metadata": {
    "anaconda-cloud": {},
    "kernelspec": {
      "display_name": "Python [Anaconda3]",
      "language": "python",
      "name": "Python [Anaconda3]"
    },
    "language_info": {
      "codemirror_mode": {
        "name": "ipython",
        "version": 3
      },
      "file_extension": ".py",
      "mimetype": "text/x-python",
      "name": "python",
      "nbconvert_exporter": "python",
      "pygments_lexer": "ipython3",
      "version": "3.5.6"
    },
    "colab": {
      "name": "L2CWDN-quantization_and_binay_power.ipynb",
      "provenance": [],
      "include_colab_link": true
    }
  },
  "cells": [
    {
      "cell_type": "markdown",
      "metadata": {
        "id": "view-in-github",
        "colab_type": "text"
      },
      "source": [
        "<a href=\"https://colab.research.google.com/github/omrihaber/L2CWDN/blob/main/L2CWDN_quantization_and_binay_power.ipynb\" target=\"_parent\"><img src=\"https://colab.research.google.com/assets/colab-badge.svg\" alt=\"Open In Colab\"/></a>"
      ]
    },
    {
      "cell_type": "markdown",
      "metadata": {
        "id": "LXopNg0im84a"
      },
      "source": [
        "# Learning to Cooperate in Decentralized Wireless Networks\r\n",
        "\r\n",
        "https://ieeexplore.ieee.org/document/8645377\r\n"
      ]
    },
    {
      "cell_type": "markdown",
      "metadata": {
        "id": "LPedMcp6m84b"
      },
      "source": [
        " ## extra links/resources:\n",
        "  ### https://arxiv.org/pdf/1607.00133.pdf\n",
        "  ### https://discuss.pytorch.org/t/writing-a-simple-gaussian-noise-layer-in-pytorch/4694/5"
      ]
    },
    {
      "cell_type": "code",
      "metadata": {
        "id": "6NrhBlu7m84c",
        "colab": {
          "base_uri": "https://localhost:8080/"
        },
        "outputId": "353d03f2-db0b-4248-a54b-7c11c64b55f5"
      },
      "source": [
        "%matplotlib inline\n",
        "import numpy as np\n",
        "import matplotlib.pyplot as plt\n",
        "from functools import partial\n",
        "import torch\n",
        "import torch.nn as nn\n",
        "import torch.nn.functional as F\n",
        "\n",
        "# import torchsnooper\n",
        "\n",
        "# from livelossplot import PlotLosses\n",
        "# liveplot = PlotLosses()\n",
        "\n",
        "#use gpu if available\n",
        "torch.set_default_tensor_type(torch.DoubleTensor)\n",
        "if torch.cuda.is_available():\n",
        "    torch.set_default_tensor_type(torch.cuda.DoubleTensor)\n",
        "    \n",
        "device = torch.device(\"cuda:0\" if torch.cuda.is_available() else \"cpu\")\n",
        "\n",
        "# Assuming that we are on a CUDA machine, this should print a CUDA device:\n",
        "\n",
        "print(device)"
      ],
      "execution_count": null,
      "outputs": [
        {
          "output_type": "stream",
          "text": [
            "cpu\n"
          ],
          "name": "stdout"
        }
      ]
    },
    {
      "cell_type": "markdown",
      "metadata": {
        "id": "eozOlXyJm84f"
      },
      "source": [
        "# Constants and utility functions"
      ]
    },
    {
      "cell_type": "markdown",
      "metadata": {
        "id": "USYrdMO5m84f"
      },
      "source": [
        "## $10 = SN{R_{dB}} = 10{\\log _{10}}SNR \\Rightarrow$\n",
        "## $\\Rightarrow {\\log _{10}}SNR = 1 \\Rightarrow SNR = 10$"
      ]
    },
    {
      "cell_type": "markdown",
      "metadata": {
        "id": "V4l6pmMBm84g"
      },
      "source": [
        "## we assume that the Gain Matrix is 1"
      ]
    },
    {
      "cell_type": "code",
      "metadata": {
        "id": "Dcfs-ZdDm84h"
      },
      "source": [
        "K = 2 #number of TX/RX Pairs\n",
        "G = torch.ones((K,K)) # Gain Matrix\n",
        "SNR = 10.0 #Signal to noise ratio\n",
        "TRAINING_SIZE = 4000 #number of samples to generate for training set\n",
        "EPOCHS = 1000 # number of times the DNN will go over the entire training set\n",
        "BATCH_SIZE = 400 # number of samples the net will go over before each gradient update\n",
        "NUM_OF_BATCHES = TRAINING_SIZE/BATCH_SIZE\n",
        "EVAULUATION_SIZE = 10000 # number of samples generated to evaluate the model\n",
        "HIDDEN_LAYERS = 4 \n",
        "HIDDEN_LAYER_SIZE = 50\n",
        "LR = 0.00003 # learning rate\n",
        "\n",
        "QUANTIZATION = 8 # number of bits to quanatize the messages\n",
        "\n",
        "SERIALIZATION_PREFIX = \"./experminet_\"\n"
      ],
      "execution_count": null,
      "outputs": []
    },
    {
      "cell_type": "code",
      "metadata": {
        "id": "1XXox8gYm84l"
      },
      "source": [
        "def generate_path(sigma,v=1,K=K,SERIALIZATION_PREFIX=SERIALIZATION_PREFIX):\n",
        "    path = SERIALIZATION_PREFIX\n",
        "    path += \"v\" + str(v)+\"_\"\n",
        "    path += \"k\" + str(K)+\"_\"\n",
        "    path += \"sigma_\" + str(sigma)\n",
        "    path += \".pth\"\n",
        "    return path"
      ],
      "execution_count": null,
      "outputs": []
    },
    {
      "cell_type": "code",
      "metadata": {
        "id": "RkhzSFprm84o"
      },
      "source": [
        "send_to_device = lambda t,device=device : t.to(device)\n",
        "send_nets_to_device = lambda nets,device=device: [send_to_device(net) for net in nets]"
      ],
      "execution_count": null,
      "outputs": []
    },
    {
      "cell_type": "code",
      "metadata": {
        "id": "7-GivTeqm84s"
      },
      "source": [
        "repeat_constant = lambda constant,size=1 : torch.tensor([constant]).repeat(size).double()"
      ],
      "execution_count": null,
      "outputs": []
    },
    {
      "cell_type": "markdown",
      "metadata": {
        "id": "gCPUGf3xm84v"
      },
      "source": [
        "## AWGN := adding zero mean normal distribution with SNR Variance"
      ]
    },
    {
      "cell_type": "code",
      "metadata": {
        "id": "8nXIKDPZm84x"
      },
      "source": [
        "generate_noise = lambda size,mean=0,SNR=SNR:torch.empty(size).normal_(mean=mean,std=SNR)"
      ],
      "execution_count": null,
      "outputs": []
    },
    {
      "cell_type": "code",
      "metadata": {
        "id": "b6tputlzm840",
        "outputId": "f840fbbf-8edf-4914-f2df-e0b0e0320cff"
      },
      "source": [
        "#example\n",
        "generate_noise((1,4))"
      ],
      "execution_count": null,
      "outputs": [
        {
          "output_type": "execute_result",
          "data": {
            "text/plain": [
              "tensor([[  4.4363, -14.7317,  -2.4254,  -3.9425]])"
            ]
          },
          "metadata": {
            "tags": []
          },
          "execution_count": 7
        }
      ]
    },
    {
      "cell_type": "code",
      "metadata": {
        "id": "bBqrGLfEm844"
      },
      "source": [
        "# add_noise = lambda x,SNR=SNR,size=1:torch.add(x,torch.normal(0,SNR,size))\n",
        "# add_noise = lambda x,SNR=SNR:torch.add(x,generate_noise(x.size(),SNR=SNR))\n",
        "\n",
        "# @torchsnooper.snoop()\n",
        "def add_noise(x,SNR=SNR):\n",
        "    return torch.add(x,generate_noise(x.size(),SNR=SNR))"
      ],
      "execution_count": null,
      "outputs": []
    },
    {
      "cell_type": "code",
      "metadata": {
        "id": "GOBepNZJm847",
        "outputId": "574b7f19-2098-474a-b201-4bf5c0bf7dac"
      },
      "source": [
        "#example\n",
        "add_noise(torch.tensor((100,100,100,100)).double())"
      ],
      "execution_count": null,
      "outputs": [
        {
          "output_type": "execute_result",
          "data": {
            "text/plain": [
              "tensor([104.9576,  94.5872,  94.6660, 117.1210])"
            ]
          },
          "metadata": {
            "tags": []
          },
          "execution_count": 9
        }
      ]
    },
    {
      "cell_type": "code",
      "metadata": {
        "id": "uiCmIWeWm84-"
      },
      "source": [
        "def plot(x = np.linspace(-1,1,50) , func=lambda x:x):\n",
        "    y = func(x)\n",
        "    plt.plot(x, y)\n",
        "    plt.show()"
      ],
      "execution_count": null,
      "outputs": []
    },
    {
      "cell_type": "code",
      "metadata": {
        "id": "0v2iv0_vm85B"
      },
      "source": [
        "def plot_array(x = np.linspace(-1,1,50) , y = np.linspace(-1,1,50)):\n",
        "    plt.plot(x, y)\n",
        "    plt.show()"
      ],
      "execution_count": null,
      "outputs": []
    },
    {
      "cell_type": "code",
      "metadata": {
        "id": "K7J0Cy5tm85D",
        "outputId": "db9b141e-8cec-4fff-b90a-2e3898877fd5"
      },
      "source": [
        "plot_array()"
      ],
      "execution_count": null,
      "outputs": [
        {
          "output_type": "display_data",
          "data": {
            "image/png": "[encoded data removed]",
            "text/plain": [
              "<Figure size 432x288 with 1 Axes>"
            ]
          },
          "metadata": {
            "tags": []
          }
        }
      ]
    },
    {
      "cell_type": "markdown",
      "metadata": {
        "id": "-5c2zCdIm85F"
      },
      "source": [
        "## $sigmoid\\left( {x,p} \\right): = \\frac{1}{{1 + {e^{ - px}}}}$"
      ]
    },
    {
      "cell_type": "code",
      "metadata": {
        "id": "o6UyeBHqm85F"
      },
      "source": [
        "def sigmoid(x,p=1):\n",
        "    return 1.0 / (1.0 + torch.exp(-x*p))"
      ],
      "execution_count": null,
      "outputs": []
    },
    {
      "cell_type": "code",
      "metadata": {
        "id": "IGcNxhJnm85H",
        "colab": {
          "base_uri": "https://localhost:8080/",
          "height": 265
        },
        "outputId": "2cde6bff-cf2e-43f0-a3a9-241c9a55a29e"
      },
      "source": [
        "sig = lambda x,p=1:1.0/(1.0+np.exp(-1*x*p))\n",
        "plot_array(x=np.linspace(-1,1,100),y=sig(np.linspace(-1,1,100),p=100))"
      ],
      "execution_count": null,
      "outputs": [
        {
          "output_type": "display_data",
          "data": {
            "image/png": "[encoded data removed]",
            "text/plain": [
              "<Figure size 432x288 with 1 Axes>"
            ]
          },
          "metadata": {
            "tags": [],
            "needs_background": "light"
          }
        }
      ]
    },
    {
      "cell_type": "code",
      "metadata": {
        "id": "vv6W8BQpSPY0",
        "colab": {
          "base_uri": "https://localhost:8080/",
          "height": 67
        },
        "outputId": "85903bb5-f704-4aac-854b-dd2dac851eb9"
      },
      "source": [
        "print(sig(1))\n",
        "print(sig(2))\n",
        "print(sig(3))"
      ],
      "execution_count": null,
      "outputs": [
        {
          "output_type": "stream",
          "text": [
            "0.7310585786300049\n",
            "0.8807970779778823\n",
            "0.9525741268224334\n"
          ],
          "name": "stdout"
        }
      ]
    },
    {
      "cell_type": "code",
      "metadata": {
        "id": "d79uCC8hSGSP",
        "colab": {
          "base_uri": "https://localhost:8080/",
          "height": 67
        },
        "outputId": "0ff69c0a-df54-4803-e126-49b058e4717f"
      },
      "source": [
        "x = np.array([1,2,3])\n",
        "x2 = x+x\n",
        "print(x,sig(x))\n",
        "print(x2,sig(x2))\n",
        "print(x,x*x)"
      ],
      "execution_count": null,
      "outputs": [
        {
          "output_type": "stream",
          "text": [
            "[1 2 3] [0.73105858 0.88079708 0.95257413]\n",
            "[2 4 6] [0.88079708 0.98201379 0.99752738]\n",
            "[1 2 3] [1 4 9]\n"
          ],
          "name": "stdout"
        }
      ]
    },
    {
      "cell_type": "code",
      "metadata": {
        "id": "InZzDnfpm85J",
        "outputId": "21ce21a1-ae24-4f8b-926e-9efbf0b5845d"
      },
      "source": [
        "sigmoid(torch.ones(1))"
      ],
      "execution_count": null,
      "outputs": [
        {
          "output_type": "execute_result",
          "data": {
            "text/plain": [
              "tensor([0.7311])"
            ]
          },
          "metadata": {
            "tags": []
          },
          "execution_count": 11
        }
      ]
    },
    {
      "cell_type": "markdown",
      "metadata": {
        "id": "Vjr0d6zlm85L"
      },
      "source": [
        "## the slope of the sigmoid is proportional to the epoch  in the training stage"
      ]
    },
    {
      "cell_type": "code",
      "metadata": {
        "id": "ioHNcp9ym85M"
      },
      "source": [
        "#generate a function that after being invoked train_size(after 1 epoch) times increases p by 1\n",
        "def generate_proportional_sigmoid(train_size):\n",
        "    p = 1\n",
        "    calls = 1\n",
        "    def proportional_sigmoid(x):\n",
        "        nonlocal p\n",
        "        nonlocal calls\n",
        "        ret = sigmoid(x,p=p)\n",
        "        if calls == train_size:\n",
        "            calls = 0\n",
        "            p += 1\n",
        "        calls += 1\n",
        "        return ret\n",
        "    return proportional_sigmoid"
      ],
      "execution_count": null,
      "outputs": []
    },
    {
      "cell_type": "markdown",
      "metadata": {
        "id": "anl7sH7wm85O"
      },
      "source": [
        "## $\\Delta$ contains i.i.d. Chi-square random variables\n",
        "## degress of freedom = ?, chosen 2 arbitrarily"
      ]
    },
    {
      "cell_type": "code",
      "metadata": {
        "id": "KtB_pogFm85P"
      },
      "source": [
        "generate_delta = lambda k=K,df=2: send_to_device(torch.from_numpy(np.random.chisquare(df,(k,k))).double())"
      ],
      "execution_count": null,
      "outputs": []
    },
    {
      "cell_type": "markdown",
      "metadata": {
        "id": "DVKlsErGm85S"
      },
      "source": [
        "# Hadamard Product / Element wise product"
      ]
    },
    {
      "cell_type": "code",
      "metadata": {
        "id": "OiVtyBkKm85T"
      },
      "source": [
        "# hadamard = lambda a,b:np.mat(np.array(a)*np.array(b))\n",
        "hadamard = lambda a,b:torch.mul(a,b)"
      ],
      "execution_count": null,
      "outputs": []
    },
    {
      "cell_type": "markdown",
      "metadata": {
        "id": "rcJASN5sm85Z"
      },
      "source": [
        "## $\\bar \\Sigma : = \\sqrt {1 - {\\Sigma ^2}} \\,\\,(7)$"
      ]
    },
    {
      "cell_type": "code",
      "metadata": {
        "id": "OnQtBidVm85a"
      },
      "source": [
        "# sigma_line = lambda sigma:np.sqrt(1-(sigma**2))\n",
        "sigma_line = lambda sigma:torch.sqrt(1-torch.pow(sigma,2))"
      ],
      "execution_count": null,
      "outputs": []
    },
    {
      "cell_type": "markdown",
      "metadata": {
        "id": "rjBfKJoOm85c"
      },
      "source": [
        "## $\\hat G: = \\bar \\Sigma  \\odot G + \\Sigma  \\odot \\Delta \\,\\,(7)$"
      ]
    },
    {
      "cell_type": "code",
      "metadata": {
        "id": "WlY9xxMLm85c"
      },
      "source": [
        "# g_hat = lambda sigma,G=G:hadamard(sigma_line(sigma),G)+hadamard(sigma,generate_delta())\n",
        "g_hat = lambda sigma,G=G:torch.add(hadamard(sigma_line(sigma),G),hadamard(sigma,generate_delta())).double()"
      ],
      "execution_count": null,
      "outputs": []
    },
    {
      "cell_type": "markdown",
      "metadata": {
        "id": "KFJAYYxpm85e"
      },
      "source": [
        "# Data Generation"
      ]
    },
    {
      "cell_type": "code",
      "metadata": {
        "id": "yyCtxqW3m85f"
      },
      "source": [
        "def generate_data(sigmas,num_of_batches,batch_size=BATCH_SIZE,G=G,K=K):\n",
        "#     return np.array([[[g_hat(sigma,G=G) for _ in range(int(batch_size))] for sigma in sigmas] for _ in range(int(num_of_batches))])\n",
        "    return [[torch.stack([g_hat(sigma,G=G) for _ in range(int(batch_size))]).view(-1,K**2) for sigma in sigmas] for _ in range(int(num_of_batches))]"
      ],
      "execution_count": null,
      "outputs": []
    },
    {
      "cell_type": "code",
      "metadata": {
        "id": "LeEfqkXXm85h"
      },
      "source": [
        "generate_train_data = lambda sigmas,num_of_batches=TRAINING_SIZE/BATCH_SIZE,batch_size=BATCH_SIZE,G=G,K=K: generate_data(sigmas,num_of_batches,batch_size,G,K)"
      ],
      "execution_count": null,
      "outputs": []
    },
    {
      "cell_type": "code",
      "metadata": {
        "id": "8X8USxN5m85j"
      },
      "source": [
        "# generate_evaluation_data = lambda sigmas,num_of_batches=1,EVAULUATION_SIZE=EVAULUATION_SIZE,G=G,K=K: generate_data(sigmas,num_of_batches,EVAULUATION_SIZE,G,K)[0]\n",
        "generate_evaluation_data = lambda sigmas,EVAULUATION_SIZE=EVAULUATION_SIZE,G=G,K=K: [torch.stack([g_hat(sigma,G=G) for _ in range(EVAULUATION_SIZE)]).view(-1,K**2) for sigma in sigmas]"
      ],
      "execution_count": null,
      "outputs": []
    },
    {
      "cell_type": "code",
      "metadata": {
        "id": "FYDKC2NZm85k"
      },
      "source": [
        "# generate_evaluation_data([torch.ones((K,K)),torch.ones((K,K))])"
      ],
      "execution_count": null,
      "outputs": []
    },
    {
      "cell_type": "code",
      "metadata": {
        "id": "MgMF3Blzm85m",
        "outputId": "8a3c10af-c2a6-41a8-e94c-e8be4fed6d28"
      },
      "source": [
        "x= torch.ones((K,K))\n",
        "x.type()"
      ],
      "execution_count": null,
      "outputs": [
        {
          "output_type": "execute_result",
          "data": {
            "text/plain": [
              "'torch.cuda.DoubleTensor'"
            ]
          },
          "metadata": {
            "tags": []
          },
          "execution_count": 21
        }
      ]
    },
    {
      "cell_type": "code",
      "metadata": {
        "id": "Cl1s3L5em85o",
        "outputId": "95887815-a39f-4ce3-9518-cf616bd47f99"
      },
      "source": [
        "generate_data([torch.ones((K,K))],2,2)"
      ],
      "execution_count": null,
      "outputs": [
        {
          "output_type": "execute_result",
          "data": {
            "text/plain": [
              "[[tensor([[2.2722, 5.2360, 3.9678, 0.6250],\n",
              "          [1.7615, 1.0216, 1.1441, 1.4055]])],\n",
              " [tensor([[1.1250, 4.2486, 0.5242, 1.8407],\n",
              "          [4.5644, 1.5094, 1.5669, 1.0538]])]]"
            ]
          },
          "metadata": {
            "tags": []
          },
          "execution_count": 22
        }
      ]
    },
    {
      "cell_type": "markdown",
      "metadata": {
        "id": "1NW7BzvSm85q"
      },
      "source": [
        "# Model Generation"
      ]
    },
    {
      "cell_type": "code",
      "metadata": {
        "id": "8WcB_rGim85r"
      },
      "source": [
        "class MessageMaker(nn.Module):\n",
        "    def __init__(self,h_layers, h_size,k,training_size):\n",
        "        super(MessageMaker, self).__init__()\n",
        "        \n",
        "        self.h_layers=h_layers\n",
        "        self.proportional_sigmoid = generate_proportional_sigmoid(training_size)\n",
        "        \n",
        "        self.messageMaker = nn.ModuleList()\n",
        "        self.messageMaker.append(nn.Linear(k**2,h_size)) #input layer\n",
        "        for k in range(h_layers):        #hidden layers\n",
        "            self.messageMaker.append(nn.Linear(h_size, h_size))\n",
        "        self.messageMaker.append(nn.Linear(h_size,1)) #output layer | s_i,j\n",
        "    \n",
        "    def forward(self, x):\n",
        "        #conditional step_function\n",
        "        step_function = lambda x: 1*(x>0)\n",
        "        if self.training:\n",
        "            step_function = self.proportional_sigmoid\n",
        "        #pass the input through the network\n",
        "        for i in range(self.h_layers+1): #hidden layers + input layer\n",
        "            x = F.relu(self.messageMaker[i](x)) #relu is used as the activation function except for the output layer\n",
        "        output = step_function(self.messageMaker[-1](x))\n",
        "        return output"
      ],
      "execution_count": null,
      "outputs": []
    },
    {
      "cell_type": "markdown",
      "metadata": {
        "id": "xW1VVP1dm85t"
      },
      "source": [
        "## making the following assumption\n",
        "##  \"We study link scheduling which means that each\n",
        "## TX may decide between transmitting with a fixed maximum\n",
        "## power level P or staying idle for one channel realization\"\n",
        "## Team Deep Neural Networks for Interference Channels\n"
      ]
    },
    {
      "cell_type": "code",
      "metadata": {
        "id": "eg6dt-V7m85u"
      },
      "source": [
        "class DecisionMaker(nn.Module):\n",
        "    def __init__(self,h_layers, h_size,k):\n",
        "        super(DecisionMaker, self).__init__()\n",
        "        \n",
        "        self.h_layers=h_layers\n",
        "        \n",
        "        self.decisionMaker = nn.ModuleList()\n",
        "        self.decisionMaker.append(nn.Linear(k**2+k,h_size)) #input layer -> estimation of gain matrix + k messages\n",
        "        for k in range(h_layers):        #hidden layers\n",
        "            self.decisionMaker.append(nn.Linear(h_size, h_size))\n",
        "        self.decisionMaker.append(nn.Linear(h_size,1)) #output layer | s_i,j\n",
        "    \n",
        "    def forward(self, x):\n",
        "        #pass the input through the network\n",
        "        for i in range(self.h_layers+2): #hidden layers + input layer + output layer\n",
        "            x = F.relu(self.decisionMaker[i](x)) #relu is used as the activation function except for the output layer\n",
        "        output = x\n",
        "        return output"
      ],
      "execution_count": null,
      "outputs": []
    },
    {
      "cell_type": "code",
      "metadata": {
        "id": "bPHwC7e5m85w"
      },
      "source": [
        "def generate_models(h_layers=HIDDEN_LAYERS, h_size=HIDDEN_LAYER_SIZE,k=K,training_size=TRAINING_SIZE):\n",
        "    decisionMakers = [send_to_device(DecisionMaker(h_layers=h_layers,h_size=h_size,k=k)) for _ in range(k)]\n",
        "    messageMakers = [send_to_device(MessageMaker(h_layers=h_layers,h_size=h_size,k=k,training_size=training_size)) for _ in range(k)]\n",
        "    return decisionMakers,messageMakers"
      ],
      "execution_count": null,
      "outputs": []
    },
    {
      "cell_type": "code",
      "metadata": {
        "id": "Sa6Wh_Eam85z"
      },
      "source": [
        "# messageMakers[0]"
      ],
      "execution_count": null,
      "outputs": []
    },
    {
      "cell_type": "markdown",
      "metadata": {
        "id": "eo3WJaa3m851"
      },
      "source": [
        "# $R\\left( {{p_1},...,{p_k}} \\right) = \\mathop \\sum \\limits_{k = 1}^K \\lg \\left( {1 + \\frac{{{g_{k,k}}{p_k}}}{{N + \\mathop \\sum \\limits_{k \\ne j} {g_{k,j}}{p_j}}}} \\right) = \\mathop \\sum \\limits_{k = 1}^K \\lg \\left( {1 + \\frac{{{g_{k,k}}{p_k}}}{{N + \\mathop \\sum \\limits_j {g_{k,j}}{p_j} - {g_{k,k}}{p_k}}}} \\right) = \\lg \\mathop \\Pi \\limits_{k = 1}^K \\left( {1 + \\frac{{{g_{k,k}}{p_k}}}{{N + \\mathop \\sum \\limits_j {g_{k,j}}{p_j} - {g_{k,k}}{p_k}}}} \\right) $"
      ]
    },
    {
      "cell_type": "code",
      "metadata": {
        "id": "lHK5zhTom851"
      },
      "source": [
        "def R(powers,K=K,G=G,noise_power=0):\n",
        "    # replace with DI\n",
        "    batch_size = len(powers)\n",
        "    size = (batch_size,1)\n",
        "    N = repeat_constant(noise_power,size)\n",
        "    ret = torch.ones(size)\n",
        "    for k in range(K):\n",
        "        gkk = repeat_constant(G[k][k],size)\n",
        "        pk = torch.narrow(powers,1,k,1)\n",
        "        gkk_pk = hadamard(gkk , pk)\n",
        "        sum_j_not_k = torch.zeros(size)\n",
        "        for j in range(K):\n",
        "            gkj =  repeat_constant(G[k][j],size)\n",
        "            pj = torch.narrow(powers,1,j,1)\n",
        "            gkj_pj = hadamard(gkj , pj)\n",
        "            sum_j_not_k = torch.add(sum_j_not_k,gkj_pj)\n",
        "        sum_j_not_k -= pk\n",
        "        pi_term = torch.add(torch.ones(size),(gkk_pk/(N+sum_j_not_k)))\n",
        "        ret = hadamard(pi_term,ret)\n",
        "    ret = torch.log2(ret)\n",
        "    return ret"
      ],
      "execution_count": null,
      "outputs": []
    },
    {
      "cell_type": "markdown",
      "metadata": {
        "collapsed": true,
        "id": "ng8CRcD3m853"
      },
      "source": [
        "## loss is an inverse function to R: minimizing this function will maximize R"
      ]
    },
    {
      "cell_type": "code",
      "metadata": {
        "id": "TUSA4ITMm854"
      },
      "source": [
        "def loss_function(output,G=G,K=K,noise_power=0):\n",
        "    size = (len(output),1)\n",
        "    one = repeat_constant(1,size)\n",
        "    rate = R(output,K=K,noise_power=noise_power)\n",
        "#     print(\"max rate:\")\n",
        "#     print(torch.max(rate))\n",
        "    return torch.mean(rate),torch.mean(one/(rate+one))"
      ],
      "execution_count": null,
      "outputs": []
    },
    {
      "cell_type": "markdown",
      "metadata": {
        "id": "MButDUqMm856"
      },
      "source": [
        "# Model Training"
      ]
    },
    {
      "cell_type": "code",
      "metadata": {
        "id": "fzPtc76hm856"
      },
      "source": [
        "change_models_mode_to_eval = lambda models: [model.eval() for model in models]\n",
        "change_models_mode_to_train = lambda models: [model.train() for model in models]"
      ],
      "execution_count": null,
      "outputs": []
    },
    {
      "cell_type": "code",
      "metadata": {
        "id": "YzLjXJ1Am858"
      },
      "source": [
        "def zero_grad_array(arr):\n",
        "    for net in arr:\n",
        "        net.zero_grad()\n",
        "def optimizer_step_array(arr):\n",
        "    for optimizer in arr:\n",
        "        optimizer.step()"
      ],
      "execution_count": null,
      "outputs": []
    },
    {
      "cell_type": "code",
      "metadata": {
        "id": "IVRWehjbm86C"
      },
      "source": [
        "generate_tensor_from_output_array = lambda messages_array:torch.cat(messages_array,1).double()\n",
        "generate_power_tensor_from_powers_array = lambda powers_array:torch.cat(powers_array,1).double()"
      ],
      "execution_count": null,
      "outputs": []
    },
    {
      "cell_type": "code",
      "metadata": {
        "id": "BKP2nGMwm86D"
      },
      "source": [
        "def generate_messages_tensor_for_user_k(messages,messages_with_noise,k,K=K):\n",
        "        transfer_without_noise = torch.narrow(messages, 1, k,1)     \n",
        "        transfer_with_noise_prefix = torch.narrow(messages_with_noise, 1, k,k) if k>0 else None\n",
        "        transfer_with_noise_suffix =  torch.narrow(messages_with_noise, 1, k+1,K-k-1) if k<K else None\n",
        "        \n",
        "        if transfer_with_noise_prefix is not None and transfer_with_noise_suffix is not None:\n",
        "            return torch.cat([transfer_with_noise_prefix,transfer_without_noise,transfer_with_noise_suffix],1)\n",
        "        elif transfer_with_noise_prefix is not None:\n",
        "            return torch.cat([transfer_with_noise_prefix,transfer_without_noise],1)\n",
        "        else:\n",
        "            return torch.cat([transfer_without_noise,transfer_with_noise_suffix],1)\n",
        "\n",
        "def generate_messages_tensor_for_all_users(messages,messages_with_noise,K=K):\n",
        "    return [generate_messages_tensor_for_user_k(messages,messages_with_noise,k,K=K) for k in range(K)]\n",
        "    "
      ],
      "execution_count": null,
      "outputs": []
    },
    {
      "cell_type": "code",
      "metadata": {
        "id": "N9mu8O5um86G"
      },
      "source": [
        "def generate_decision_maker_input(batch,messages,messages_with_noise,K=K):\n",
        "    messages_tensor = generate_messages_tensor_for_all_users(messages,messages_with_noise,K=K)\n",
        "    return [torch.cat([batch[k],messages_tensor[k]],1) for k in range(K)]"
      ],
      "execution_count": null,
      "outputs": []
    },
    {
      "cell_type": "markdown",
      "metadata": {
        "id": "XD7mLCEJm86J"
      },
      "source": [
        "## assumption K=2"
      ]
    },
    {
      "cell_type": "markdown",
      "metadata": {
        "collapsed": true,
        "id": "FE89esM2m86K"
      },
      "source": [
        "## serialize_model"
      ]
    },
    {
      "cell_type": "code",
      "metadata": {
        "id": "GJcUqVfkm86K"
      },
      "source": [
        "models_to_state_dicts = lambda models:[model.state_dict() for model in models]\n",
        "optimizers_to_state_dicts = lambda optimizers:[optimizer.state_dict() for optimizer in optimizers]"
      ],
      "execution_count": null,
      "outputs": []
    },
    {
      "cell_type": "code",
      "metadata": {
        "id": "2J3w_bxnm86L"
      },
      "source": [
        "def seralize_model(messageMakers,decisionMakers,messageMakersOptimizers,decisionMakersOptimizers,loss,rate,epoch=EPOCHS,path=\"./model.pt\"):\n",
        "    messageMakers_state_dicts = models_to_state_dicts(messageMakers)\n",
        "    decisionMakers_state_dicts = models_to_state_dicts(decisionMakers)\n",
        "    messageMakersOptimizers_state_dicts = optimizers_to_state_dicts(messageMakersOptimizers)\n",
        "    decisionMakersOptimizers_state_dicts = optimizers_to_state_dicts(decisionMakersOptimizers)\n",
        "    torch.save({\n",
        "            'messageMakers_state_dicts': messageMakers_state_dicts,\n",
        "            'decisionMakers_state_dicts': decisionMakers_state_dicts,\n",
        "            'messageMakersOptimizers_state_dicts': messageMakersOptimizers_state_dicts,\n",
        "            'decisionMakersOptimizers_state_dicts': decisionMakersOptimizers_state_dicts,\n",
        "            'loss': loss,\n",
        "            'epoch': epoch,\n",
        "            'rate':rate\n",
        "            }, path)"
      ],
      "execution_count": null,
      "outputs": []
    },
    {
      "cell_type": "markdown",
      "metadata": {
        "id": "tqeGn2e9m86N"
      },
      "source": [
        "## Make sure to call input = input.to(device) on any input tensors that you feed to the model in order to make sure that its on the GPU"
      ]
    },
    {
      "cell_type": "code",
      "metadata": {
        "id": "DaVGZATnm86N"
      },
      "source": [
        "def deseralize_model(path=\"./model.pt\",h_layers=HIDDEN_LAYERS, h_size=HIDDEN_LAYER_SIZE,k=K,training_size=TRAINING_SIZE,lr=LR):\n",
        "    decisionMakers , messageMakers = generate_models(h_layers=h_layers, h_size=h_size,k=k,training_size=training_size)\n",
        "    decisionMakersOptimizers = [torch.optim.Adam(dm.parameters(),lr=lr) for dm in decisionMakers]\n",
        "    messageMakersOptimizers = [torch.optim.Adam(mm.parameters(),lr=lr) for mm in messageMakers]\n",
        "    \n",
        "    checkpoint = torch.load(path)\n",
        "    #load epoch loss and rate\n",
        "    epoch = checkpoint['epoch']\n",
        "    loss = checkpoint['loss']\n",
        "    rate = checkpoint['rate']\n",
        "    #load models and optimizers\n",
        "    for i in range(k):\n",
        "        decisionMakers[i].load_state_dict(checkpoint['decisionMakers_state_dicts'][i])\n",
        "        messageMakers[i].load_state_dict(checkpoint['messageMakers_state_dicts'][i])\n",
        "        decisionMakersOptimizers[i].load_state_dict(checkpoint['decisionMakersOptimizers_state_dicts'][i])\n",
        "        messageMakersOptimizers[i].load_state_dict(checkpoint['messageMakersOptimizers_state_dicts'][i])\n",
        "    #change model mode to evaluation\n",
        "    change_models_mode_to_eval(decisionMakers)\n",
        "    change_models_mode_to_eval(messageMakers)\n",
        "    #send models 2 GPU if available\n",
        "    send_nets_to_device(decisionMakers)\n",
        "    send_nets_to_device(messageMakers)\n",
        "    return decisionMakers,messageMakers,decisionMakersOptimizers,messageMakersOptimizers,epoch,loss,rate\n",
        "    "
      ],
      "execution_count": null,
      "outputs": []
    },
    {
      "cell_type": "code",
      "metadata": {
        "id": "K8waBia9m86Q"
      },
      "source": [
        "#returns [[sigma,sigma;sigma,sigma],[0,0;0,0,]]\n",
        "def generate_mat_from_sigma_v1(sigma):\n",
        "    return [repeat_constant(constant=sigma,size=(2,2)),repeat_constant(constant=0,size=(2,2))]\n",
        "#returns [[sigma,0;sigma,0],[0,sigma;0,sigma,]]\n",
        "def generate_mat_from_sigma_v2(sigma):\n",
        "    return [torch.tensor([[sigma,0],[sigma,0]]),torch.tensor([[0,sigma],[0,sigma]])]"
      ],
      "execution_count": null,
      "outputs": []
    },
    {
      "cell_type": "code",
      "metadata": {
        "id": "JFG7tvD5m86U"
      },
      "source": [
        "def train_models(sigmas,training_size = TRAINING_SIZE,epochs=EPOCHS,lr=LR,G=G,K=K,noise_power=SNR,HIDDEN_LAYERS=HIDDEN_LAYERS,HIDDEN_LAYER_SIZE=HIDDEN_LAYER_SIZE,seralization_path=\"./model.pt\"):\n",
        "    decisionMakers , messageMakers = generate_models(h_layers=HIDDEN_LAYERS, h_size=HIDDEN_LAYER_SIZE,k=K,training_size=training_size)\n",
        "    decisionMakersOptimizers = [torch.optim.Adam(dm.parameters(),lr=lr) for dm in decisionMakers]\n",
        "    messageMakersOptimizers = [torch.optim.Adam(mm.parameters(),lr=lr) for mm in messageMakers]\n",
        "    change_models_mode_to_train(decisionMakers)\n",
        "    change_models_mode_to_train(messageMakers)\n",
        "    \n",
        "    #todo: add DI for batch_size and num_of_batches\n",
        "    training_data = generate_train_data(sigmas,G=G)\n",
        "    \n",
        "    \n",
        "    K = len(messageMakers)\n",
        "    \n",
        "    for epoch in range(epochs):\n",
        "        for batch in training_data:\n",
        "            zero_grad_array(decisionMakers)\n",
        "            zero_grad_array(messageMakers)\n",
        "            \n",
        "            #[[o_11,o_12,...o_1BATCH_SIZE],...,[o_K1,...,o_KBATCH_SIZE]]\n",
        "            message_model_output_array = [messageMakers[k](batch[k]) for k in range(K)]\n",
        "            #[[o_11,o_21,...o_K1],...[o_1BATCH_SIZE,...,o_KBATCH_SIZE]]\n",
        "            messages = generate_tensor_from_output_array(message_model_output_array)\n",
        "            \n",
        "            messages_with_noise = add_noise(messages)\n",
        "            \n",
        "            dm_input = generate_decision_maker_input(batch,messages,messages_with_noise,K=K)\n",
        "        \n",
        "            #same process with the model output array\n",
        "            powers_array = [decisionMakers[k](dm_input[k]) for k in range(K)]\n",
        "            powers = generate_power_tensor_from_powers_array(powers_array)\n",
        "            # Calculate loss / objective function\n",
        "            avg_rate,loss = loss_function(powers,G=G,noise_power=noise_power)\n",
        "            liveplot.update({'rate': avg_rate.item(),'loss':loss.item()})\n",
        "            liveplot.draw()\n",
        "#             loss.requires_grad = True\n",
        "            # Calculate gradients\n",
        "            loss.backward()\n",
        "            #update weights\n",
        "            optimizer_step_array(decisionMakersOptimizers)\n",
        "            optimizer_step_array(messageMakersOptimizers)\n",
        "            #plot loss\n",
        "#             print(\"epoch\",epoch ,\"loss\",loss)\n",
        "#             print(loss)\n",
        "#             vis.line(Y=loss.detach().numpy(), opts=dict(showlegend=True))\n",
        "    return decisionMakers,messageMakers,decisionMakersOptimizers,messageMakersOptimizers\n",
        "    "
      ],
      "execution_count": null,
      "outputs": []
    },
    {
      "cell_type": "code",
      "metadata": {
        "id": "y84rBcGTm86W"
      },
      "source": [
        "def evaluate_models(sigmas,decisionMakers,messageMakers,EVAULUATION_SIZE=EVAULUATION_SIZE,G=G,noise_power=SNR):\n",
        "    change_models_mode_to_eval(decisionMakers)\n",
        "    change_models_mode_to_eval(messageMakers)\n",
        "    eval_data = generate_evaluation_data(sigmas,G=G,EVAULUATION_SIZE=EVAULUATION_SIZE)\n",
        "    #[[o_11,o_12,...o_1BATCH_SIZE],...,[o_K1,...,o_KBATCH_SIZE]]\n",
        "    message_model_output_array = [messageMakers[k](eval_data[k]) for k in range(K)]\n",
        "    #[[o_11,o_21,...o_K1],...[o_1BATCH_SIZE,...,o_KBATCH_SIZE]]\n",
        "    messages = generate_tensor_from_output_array(message_model_output_array)\n",
        "    messages_with_noise = add_noise(messages)\n",
        "\n",
        "    dm_input = generate_decision_maker_input(eval_data,messages,messages_with_noise,K=K)\n",
        "\n",
        "    #same process with the model output array\n",
        "    powers_array = [decisionMakers[k](dm_input[k]) for k in range(K)]\n",
        "    powers = generate_power_tensor_from_powers_array(powers_array)\n",
        "    # Calculate loss / objective function\n",
        "    avg_rate,loss = loss_function(powers,G=G,noise_power=noise_power)\n",
        "    return loss,avg_rate\n",
        "    \n",
        "    "
      ],
      "execution_count": null,
      "outputs": []
    },
    {
      "cell_type": "code",
      "metadata": {
        "id": "8urPpGPnm86Y"
      },
      "source": [
        "def run_and_save_experiment(sigmas,training_size = TRAINING_SIZE,EVAULUATION_SIZE=EVAULUATION_SIZE,epochs=EPOCHS,lr=LR,G=G,K=K,noise_power=SNR,HIDDEN_LAYERS=HIDDEN_LAYERS,HIDDEN_LAYER_SIZE=HIDDEN_LAYER_SIZE,seralization_path=\"./model.pt\"):\n",
        "    decisionMakers,messageMakers,decisionMakersOptimizers,messageMakersOptimizers = train_models(epochs=epochs,G=G,sigmas=sigmas,noise_power=noise_power,seralization_path=seralization_path)\n",
        "    loss,rate = evaluate_models(sigmas,decisionMakers,messageMakers,EVAULUATION_SIZE=EVAULUATION_SIZE)\n",
        "    seralize_model(decisionMakers=decisionMakers,decisionMakersOptimizers=decisionMakersOptimizers,messageMakers=messageMakers,messageMakersOptimizers=messageMakersOptimizers,rate=rate,loss=loss,epoch=epochs,path=seralization_path)"
      ],
      "execution_count": null,
      "outputs": []
    },
    {
      "cell_type": "code",
      "metadata": {
        "id": "0moh8L1ym86Z"
      },
      "source": [
        "def run_and_save_experiments(TRAINING_SIZE = TRAINING_SIZE,EPOCHS=EPOCHS,G=G,LR=LR,noise_power=SNR,HIDDEN_LAYERS=HIDDEN_LAYERS,HIDDEN_LAYER_SIZE=HIDDEN_LAYER_SIZE):\n",
        "    for k in [2]:\n",
        "        #assuming k=2 will need to modify if k>3\n",
        "        # 0,0.2,0.4,0.6,0.8,1\n",
        "        for sigma in torch.linspace(0, 1, steps=6):\n",
        "            sigmas_v1 = generate_mat_from_sigma_v1(sigma)\n",
        "            sigmas_v2 = generate_mat_from_sigma_v2(sigma)\n",
        "            \n",
        "#             v1_serialization_string = \"./experminet_v1_k_\"+str(k)+\"_\"+str(sigma.item())+\".pth\"\n",
        "            v1_serialization_string = generate_path(sigma.item(),v=1)\n",
        "#             v2_serialization_string = \"./experminet_v2_k_\"+str(k)+\"_\"+str(sigma.item())+\".pth\"\n",
        "            v2_serialization_string = generate_path(sigma.item(),v=2)\n",
        "            \n",
        "            print(\"training v1 with sigma=\"+str(sigma.item()))\n",
        "            run_and_save_experiment(sigmas_v1,training_size = TRAINING_SIZE,epochs=EPOCHS,lr=LR,G=G,K=K,noise_power=SNR,HIDDEN_LAYERS=HIDDEN_LAYERS,HIDDEN_LAYER_SIZE=HIDDEN_LAYER_SIZE,seralization_path=v1_serialization_string)\n",
        "            print(\"training v2 with sigma=\"+str(sigma.item()))\n",
        "            run_and_save_experiment(sigmas_v2,training_size = TRAINING_SIZE,epochs=EPOCHS,lr=LR,G=G,K=K,noise_power=SNR,HIDDEN_LAYERS=HIDDEN_LAYERS,HIDDEN_LAYER_SIZE=HIDDEN_LAYER_SIZE,seralization_path=v2_serialization_string)\n",
        "            \n",
        "            \n",
        "    "
      ],
      "execution_count": null,
      "outputs": []
    },
    {
      "cell_type": "markdown",
      "metadata": {
        "id": "iZLprKrUm86b"
      },
      "source": [
        "## assumption Noise Power = $\\sigma^2=SNR=10$"
      ]
    },
    {
      "cell_type": "code",
      "metadata": {
        "id": "rZedUvqWm86b",
        "outputId": "fc456713-2625-4cb8-fe41-5e240bf98ab5"
      },
      "source": [
        "%time run_and_save_experiments()"
      ],
      "execution_count": null,
      "outputs": [
        {
          "output_type": "display_data",
          "data": {
            "image/png": "[encoded data removed]",
            "text/plain": [
              "<Figure size 864x576 with 2 Axes>"
            ]
          },
          "metadata": {
            "tags": []
          }
        },
        {
          "output_type": "stream",
          "text": [
            "Wall time: 12h 30min 7s\n"
          ],
          "name": "stdout"
        }
      ]
    },
    {
      "cell_type": "markdown",
      "metadata": {
        "id": "LiJjF2PVm86d"
      },
      "source": [
        "# Evaluations"
      ]
    },
    {
      "cell_type": "markdown",
      "metadata": {
        "collapsed": true,
        "id": "7RmHU-tzm86e"
      },
      "source": [
        "## model.eval() will notify all your layers that you are in eval mode, that way, batchnorm or dropout layers will work in eval mode instead of training mode.\n",
        "## torch.no_grad() impacts the autograd engine and deactivate it. It will reduce memory usage and speed up computations but you won’t be able to backprop (which you don’t want in an eval script)."
      ]
    },
    {
      "cell_type": "code",
      "metadata": {
        "id": "ozNXOuuqm86e",
        "outputId": "2c0b0447-5359-4d60-b86c-7eeadf2c30f9"
      },
      "source": [
        "losses_v1 = []\n",
        "rates_v1 = []\n",
        "losses_v2 = []\n",
        "rates_v2 = []\n",
        "\n",
        "for sigma in torch.linspace(0, 1, steps=6):\n",
        "    sigmas_v1 = generate_mat_from_sigma_v1(sigma)\n",
        "    sigmas_v2 = generate_mat_from_sigma_v2(sigma)\n",
        "\n",
        "    v1_serialization_string = \"./experminet_v1_k_2_\"+str(sigma.item())+\".pth\"\n",
        "    v2_serialization_string = \"./experminet_v2_k_2_\"+str(sigma.item())+\".pth\"\n",
        "    decisionMakers,messageMakers,decisionMakersOptimizers,messageMakersOptimizers,epoch,loss,rate = deseralize_model(path=v1_serialization_string)\n",
        "    print(v1_serialization_string+\" loss:\"+str(loss.item()))\n",
        "    print(v1_serialization_string+\" rate:\"+str(rate.item()))\n",
        "    losses_v1.append(loss.item())\n",
        "    rates_v1.append(rate.item())\n",
        "    decisionMakers,messageMakers,decisionMakersOptimizers,messageMakersOptimizers,epoch,loss,rate = deseralize_model(path=v2_serialization_string)\n",
        "    print(v2_serialization_string+\" loss:\"+str(loss.item()))\n",
        "    print(v2_serialization_string+\" rate:\"+str(rate.item()))\n",
        "    losses_v2.append(loss.item())\n",
        "    rates_v2.append(rate.item())"
      ],
      "execution_count": null,
      "outputs": [
        {
          "output_type": "stream",
          "text": [
            "./experminet_v1_k_2_0.0.pth loss:0.07875288496047629\n",
            "./experminet_v1_k_2_0.0.pth rate:11.725033747892057\n",
            "./experminet_v2_k_2_0.0.pth loss:0.08085303255633881\n",
            "./experminet_v2_k_2_0.0.pth rate:11.397606430308697\n",
            "./experminet_v1_k_2_0.2.pth loss:0.9999999747378752\n",
            "./experminet_v1_k_2_0.2.pth rate:0.0\n",
            "./experminet_v2_k_2_0.2.pth loss:0.0815081257129481\n",
            "./experminet_v2_k_2_0.2.pth rate:11.297346028809368\n",
            "./experminet_v1_k_2_0.4.pth loss:0.08025353525098858\n",
            "./experminet_v1_k_2_0.4.pth rate:11.489974660416301\n",
            "./experminet_v2_k_2_0.4.pth loss:0.0801186372889213\n",
            "./experminet_v2_k_2_0.4.pth rate:11.503254880255994\n",
            "./experminet_v1_k_2_0.6000000000000001.pth loss:0.07894687078817622\n",
            "./experminet_v1_k_2_0.6000000000000001.pth rate:11.690088986848618\n",
            "./experminet_v2_k_2_0.6000000000000001.pth loss:0.08233929588960226\n",
            "./experminet_v2_k_2_0.6000000000000001.pth rate:11.173966913138308\n",
            "./experminet_v1_k_2_0.8.pth loss:0.07515729474544704\n",
            "./experminet_v1_k_2_0.8.pth rate:12.326495335071169\n",
            "./experminet_v2_k_2_0.8.pth loss:0.0760505169576141\n",
            "./experminet_v2_k_2_0.8.pth rate:12.172234604022508\n",
            "./experminet_v1_k_2_1.0.pth loss:0.0763524092442187\n",
            "./experminet_v1_k_2_1.0.pth rate:12.126690531328247\n",
            "./experminet_v2_k_2_1.0.pth loss:0.07771522862403107\n",
            "./experminet_v2_k_2_1.0.pth rate:11.896765363566828\n"
          ],
          "name": "stdout"
        }
      ]
    },
    {
      "cell_type": "code",
      "metadata": {
        "id": "LQCJc_DQm86g",
        "outputId": "f3ca4e1e-40f3-432e-a0b0-0d12c80c03a6"
      },
      "source": [
        "rates_v1"
      ],
      "execution_count": null,
      "outputs": [
        {
          "output_type": "execute_result",
          "data": {
            "text/plain": [
              "[11.725033747892057,\n",
              " 0.0,\n",
              " 11.489974660416301,\n",
              " 11.690088986848618,\n",
              " 12.326495335071169,\n",
              " 12.126690531328247]"
            ]
          },
          "metadata": {
            "tags": []
          },
          "execution_count": 50
        }
      ]
    },
    {
      "cell_type": "code",
      "metadata": {
        "id": "-J86mclwm86h",
        "outputId": "6fc3fece-13f6-447c-bd83-7907b43ba50e"
      },
      "source": [
        "plot_array(x=np.linspace(0, 1, 6),y=rates_v1)"
      ],
      "execution_count": null,
      "outputs": [
        {
          "output_type": "display_data",
          "data": {
            "image/png": "[encoded data removed]",
            "text/plain": [
              "<Figure size 432x288 with 1 Axes>"
            ]
          },
          "metadata": {
            "tags": []
          }
        }
      ]
    },
    {
      "cell_type": "code",
      "metadata": {
        "id": "ovcdhI-Qm86i",
        "outputId": "0c1730fe-ec2d-4147-8834-2202fd8647e2"
      },
      "source": [
        "plot_array(x=np.linspace(0, 1, 6),y=rates_v2)"
      ],
      "execution_count": null,
      "outputs": [
        {
          "output_type": "display_data",
          "data": {
            "image/png": "[encoded data removed]",
            "text/plain": [
              "<Figure size 432x288 with 1 Axes>"
            ]
          },
          "metadata": {
            "tags": []
          }
        }
      ]
    },
    {
      "cell_type": "code",
      "metadata": {
        "id": "yI1FFpuWm86k",
        "outputId": "43f8b112-c05d-409d-a133-3117d158186d"
      },
      "source": [
        "plot_array(x=np.linspace(0, 1, 6),y=losses_v1)"
      ],
      "execution_count": null,
      "outputs": [
        {
          "output_type": "display_data",
          "data": {
            "image/png": "[encoded data removed]",
            "text/plain": [
              "<Figure size 432x288 with 1 Axes>"
            ]
          },
          "metadata": {
            "tags": []
          }
        }
      ]
    },
    {
      "cell_type": "code",
      "metadata": {
        "id": "zBs2Chwlm86l",
        "outputId": "e4b7fce2-636a-4d73-a87a-5043b2498df3"
      },
      "source": [
        "plot_array(x=np.linspace(0, 1, 6),y=losses_v2)"
      ],
      "execution_count": null,
      "outputs": [
        {
          "output_type": "display_data",
          "data": {
            "image/png": "[encoded data removed]",
            "text/plain": [
              "<Figure size 432x288 with 1 Axes>"
            ]
          },
          "metadata": {
            "tags": []
          }
        }
      ]
    }
  ]
}